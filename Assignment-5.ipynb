{
 "cells": [
  {
   "cell_type": "markdown",
   "id": "f03d0b48",
   "metadata": {},
   "source": [
    "# 1). What does an empty dictionary&#39;s code look like?"
   ]
  },
  {
   "cell_type": "code",
   "execution_count": 2,
   "id": "eb5ad7d8",
   "metadata": {},
   "outputs": [],
   "source": [
    "#ans\n",
    "empty_dict= {}"
   ]
  },
  {
   "cell_type": "markdown",
   "id": "16caf61e",
   "metadata": {},
   "source": [
    "# 2). What is the value of a dictionary value with the key &#39;foo&#39; and the value 42?\n",
    "Ans: The answer is 42"
   ]
  },
  {
   "cell_type": "markdown",
   "id": "d101fe63",
   "metadata": {},
   "source": [
    "# 3). What is the most significant distinction between a dictionary and a list?\n",
    "Ans: A dictionary in Python is a collection of key-value pairs, accessed by unique keys, while a list is an ordered collection of values accessed by indices (positions). Dictionaries provide a way to associate data with labels, whereas lists rely on numerical positions for retrieval."
   ]
  },
  {
   "cell_type": "markdown",
   "id": "7ec6c978",
   "metadata": {},
   "source": [
    "# 4).  What happens if you try to access spam[&#39;foo&#39;] if spam is {&#39;bar&#39;: 100}?\n",
    "\n",
    "Ans: It will raise a KeyError because the key 'foo' does not exist in the dictionary 'spam'."
   ]
  },
  {
   "cell_type": "markdown",
   "id": "94d5a865",
   "metadata": {},
   "source": [
    "# 5). If a dictionary is stored in spam, what is the difference between the expressions &#39;cat&#39; in spam and &#39;cat&#39; in spam.keys()?\n",
    "Ans: No difference; both check if 'cat' is a key in the dictionary stored in 'spam'."
   ]
  },
  {
   "cell_type": "markdown",
   "id": "2347b38e",
   "metadata": {},
   "source": [
    "# 6). If a dictionary is stored in spam, what is the difference between the expressions &#39;cat&#39; in spam and &#39;cat&#39; in spam.values()?\n",
    "Ans: If a dictionary is in the variable 'spam,' 'cat' in spam checks if 'cat' is a key, while 'cat' in spam.values() checks if 'cat' is a value in the dictionary."
   ]
  },
  {
   "cell_type": "markdown",
   "id": "1e4133e5",
   "metadata": {},
   "source": [
    "# 7). What is a shortcut for the following code?\n",
    "if &#39;color&#39; not in spam:\n",
    "\n",
    "spam[&#39;color&#39;] = &#39;black&#39;\n",
    "\n",
    "Ans: spam.setdefault('color', 'black')\n"
   ]
  },
  {
   "cell_type": "markdown",
   "id": "99991464",
   "metadata": {},
   "source": [
    "# 8). How do you &quot;pretty print&quot; dictionary values using which module and function?\n",
    "Ans: Use the `pprint` function from the `pprint` module."
   ]
  },
  {
   "cell_type": "code",
   "execution_count": null,
   "id": "96823b27",
   "metadata": {},
   "outputs": [],
   "source": []
  }
 ],
 "metadata": {
  "kernelspec": {
   "display_name": "Python 3 (ipykernel)",
   "language": "python",
   "name": "python3"
  },
  "language_info": {
   "codemirror_mode": {
    "name": "ipython",
    "version": 3
   },
   "file_extension": ".py",
   "mimetype": "text/x-python",
   "name": "python",
   "nbconvert_exporter": "python",
   "pygments_lexer": "ipython3",
   "version": "3.11.3"
  }
 },
 "nbformat": 4,
 "nbformat_minor": 5
}
